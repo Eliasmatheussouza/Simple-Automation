{
 "cells": [
  {
   "cell_type": "code",
   "execution_count": 21,
   "id": "737a6d9b-b003-48b2-97e4-adc99c1ec930",
   "metadata": {},
   "outputs": [],
   "source": [
    "import pyautogui\n",
    "\n",
    "pyautogui.PAUSE = 2\n",
    "\n",
    "pyautogui.press(\"win\")\n",
    "pyautogui.write(\"login.xlsx\")\n",
    "pyautogui.press(\"backspace\")\n",
    "pyautogui.press(\"enter\")\n",
    "\n",
    "pyautogui.click(x=509, y=369)\n",
    "pyautogui.write(\"matheus\")\n",
    "\n",
    "pyautogui.click(x=592, y=423)\n",
    "pyautogui.write(\"senha\")\n",
    "\n",
    "pyautogui.click(x=601, y=551)"
   ]
  },
  {
   "cell_type": "code",
   "execution_count": 19,
   "id": "37e18795-7ac8-43c4-8d7b-c92fe19caf1e",
   "metadata": {},
   "outputs": [
    {
     "data": {
      "text/plain": [
       "Point(x=601, y=551)"
      ]
     },
     "execution_count": 19,
     "metadata": {},
     "output_type": "execute_result"
    }
   ],
   "source": [
    "import time\n",
    "\n",
    "time.sleep(3)\n",
    "pyautogui.position()"
   ]
  },
  {
   "cell_type": "code",
   "execution_count": null,
   "id": "1eac99fb-06e5-4bd9-a311-a4d953dafe61",
   "metadata": {},
   "outputs": [],
   "source": []
  }
 ],
 "metadata": {
  "kernelspec": {
   "display_name": "Python 3 (ipykernel)",
   "language": "python",
   "name": "python3"
  },
  "language_info": {
   "codemirror_mode": {
    "name": "ipython",
    "version": 3
   },
   "file_extension": ".py",
   "mimetype": "text/x-python",
   "name": "python",
   "nbconvert_exporter": "python",
   "pygments_lexer": "ipython3",
   "version": "3.12.4"
  }
 },
 "nbformat": 4,
 "nbformat_minor": 5
}
